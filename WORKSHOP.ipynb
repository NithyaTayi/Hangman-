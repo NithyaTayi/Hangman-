{
 "cells": [
  {
   "cell_type": "code",
   "execution_count": null,
   "id": "deab9092",
   "metadata": {},
   "outputs": [],
   "source": [
    "from random import choice \n",
    "def word_generator():\n",
    "    with open(\"word_list\",\"r\") as f:\n",
    "        lines=f.readlines()\n",
    "    f.close()\n",
    "    lines=[i.strip(\"\\n\")for i in lines]\n",
    "    return choice(lines)"
   ]
  },
  {
   "cell_type": "code",
   "execution_count": null,
   "id": "acf40ccc",
   "metadata": {},
   "outputs": [],
   "source": [
    "word=word_generator()\n",
    "guessed=\"\"\n",
    "turns=len(word)*2\n",
    "while (True):\n",
    "    print(\"left:{}\".format(turns))\n",
    "    inp=input(\"make a guess:\")\n",
    "    turns-=1\n",
    "    if inp in word:\n",
    "        guessed=guessed+inp\n",
    "    unguessed=0\n",
    "    for i in word:\n",
    "        if i in guessed:\n",
    "            print(i,end=\"\")\n",
    "        else:\n",
    "            unguessed+=1\n",
    "            print(\"*\",end=\"\")\n",
    "    print(\"\")\n",
    "    if unguessed==0:\n",
    "        print(\"\\nyay\")\n",
    "        break\n",
    "    if turns==0:\n",
    "        print(\"sorry\")\n",
    "        print(\"the word is {}\".format(word))\n",
    "        break"
   ]
  },
  {
   "cell_type": "code",
   "execution_count": null,
   "id": "4bf6c872",
   "metadata": {},
   "outputs": [],
   "source": []
  }
 ],
 "metadata": {
  "kernelspec": {
   "display_name": "Python 3",
   "language": "python",
   "name": "python3"
  },
  "language_info": {
   "codemirror_mode": {
    "name": "ipython",
    "version": 3
   },
   "file_extension": ".py",
   "mimetype": "text/x-python",
   "name": "python",
   "nbconvert_exporter": "python",
   "pygments_lexer": "ipython3",
   "version": "3.8.8"
  }
 },
 "nbformat": 4,
 "nbformat_minor": 5
}
